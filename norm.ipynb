{
 "cells": [
  {
   "cell_type": "markdown",
   "metadata": {},
   "source": [
    "题目1：根据对BN,LN,IN,GN的理解，完成BLOCK 1.1,1.2两处程序填空并正确运行\n",
    "题目2：完成去掉normalization的程序版本并比较实验结果，同时自行查阅资料分析normalization的作用\n",
    "题目3：查阅资料了解CIFAR10，CIFAR100数据集上resnet表现，改进该网络中不适用于CIFAR数据集的结构\n",
    "//斜线内删掉\n",
    "其中一些可改进的问题：\n",
    "1.第一层卷积kernel_size过大，不适用于CIFAR10/100小尺寸图片\n",
    "2.同理，第一层卷积后maxpool过早\n",
    "//\n",
    "附加题bonus：基本复现resnet在CIFAR上的最好评分"
   ]
  },
  {
   "cell_type": "code",
   "execution_count": 1,
   "metadata": {
    "ExecuteTime": {
     "end_time": "2021-01-12T06:37:55.255445Z",
     "start_time": "2021-01-12T06:37:53.892047Z"
    }
   },
   "outputs": [
    {
     "name": "stdout",
     "output_type": "stream",
     "text": [
      "1.6.0\n"
     ]
    },
    {
     "data": {
      "text/plain": [
       "<torch._C.Generator at 0x7f29b80d8470>"
      ]
     },
     "execution_count": 1,
     "metadata": {},
     "output_type": "execute_result"
    }
   ],
   "source": [
    "import os\n",
    "import torch\n",
    "import yaml\n",
    "from torchvision import datasets\n",
    "import torch.nn as nn\n",
    "import torchvision.models as models\n",
    "import numpy as np\n",
    "import time\n",
    "print(torch.__version__)\n",
    "torch.manual_seed(0)"
   ]
  },
  {
   "cell_type": "code",
   "execution_count": 2,
   "metadata": {
    "ExecuteTime": {
     "end_time": "2021-01-12T06:37:55.690752Z",
     "start_time": "2021-01-12T06:37:55.676723Z"
    }
   },
   "outputs": [],
   "source": [
    "args = {\n",
    "    \"data\": {\n",
    "        \"dataroot\":\"/mnt/pami14/zengyi/dataset/CIFAR100/\",\n",
    "        \"dataset\":\"CIFAR100\",\n",
    "        \"class_num\":10,\n",
    "        \"train\": {\n",
    "            \"numWorkers\": 2,\n",
    "            \"batchSize\": 128,\n",
    "            \"shuffle\": True,\n",
    "        },\n",
    "        \"test\": {\n",
    "            \"numWorkers\": 2,\n",
    "            \"batchSize\": 128,\n",
    "            \"shuffle\": False\n",
    "        }\n",
    "    },\n",
    "    \"model\": {\n",
    "        \"norm_type\":\"GN\",\n",
    "        \"group_num\":4,\n",
    "        \"epochs\": 200,\n",
    "        \"testFreq\": 2,\n",
    "        \"optimizer\": \"Adam\",\n",
    "        \"learningRate\": 1e-3,\n",
    "        \"weightDecay\": 0,\n",
    "        \"modelsave\":True,\n",
    "        \"modelload\":False,\n",
    "        \"dropout\":0.0,\n",
    "        \"isDropout\":True\n",
    "    },\n",
    "    \"randomseed\": 1007,\n",
    "    \"CUDA_VISIBLE_DEVICES\": \"1\",\n",
    "    \"use_gpu\": True\n",
    "}\n",
    "os.environ[\"CUDA_VISIBLE_DEVICES\"] = \"1\""
   ]
  },
  {
   "cell_type": "markdown",
   "metadata": {},
   "source": [
    "# CIFAR-10 Dataset"
   ]
  },
  {
   "cell_type": "code",
   "execution_count": 3,
   "metadata": {
    "ExecuteTime": {
     "end_time": "2021-01-12T06:37:57.207817Z",
     "start_time": "2021-01-12T06:37:57.203534Z"
    }
   },
   "outputs": [],
   "source": [
    "from torchvision.datasets import CIFAR10,CIFAR100\n",
    "from torchvision import transforms"
   ]
  },
  {
   "cell_type": "code",
   "execution_count": 4,
   "metadata": {
    "ExecuteTime": {
     "end_time": "2021-01-12T06:39:18.068970Z",
     "start_time": "2021-01-12T06:37:57.758982Z"
    }
   },
   "outputs": [
    {
     "name": "stdout",
     "output_type": "stream",
     "text": [
      "Downloading https://www.cs.toronto.edu/~kriz/cifar-10-python.tar.gz to /mnt/pami14/zengyi/dataset/CIFAR100/cifar-10-python.tar.gz\n"
     ]
    },
    {
     "data": {
      "application/vnd.jupyter.widget-view+json": {
       "model_id": "29925594c34847eb86eda65908267cb8",
       "version_major": 2,
       "version_minor": 0
      },
      "text/plain": [
       "HBox(children=(FloatProgress(value=1.0, bar_style='info', max=1.0), HTML(value='')))"
      ]
     },
     "metadata": {},
     "output_type": "display_data"
    },
    {
     "name": "stdout",
     "output_type": "stream",
     "text": [
      "Extracting /mnt/pami14/zengyi/dataset/CIFAR100/cifar-10-python.tar.gz to /mnt/pami14/zengyi/dataset/CIFAR100/\n",
      "Files already downloaded and verified\n"
     ]
    }
   ],
   "source": [
    "trainFolder=None\n",
    "testFolder=None\n",
    "trans=transforms.Compose([\n",
    "    transforms.ToTensor(),\n",
    "])\n",
    "\n",
    "if(args[\"data\"][\"dataset\"]==\"CIFAR10\"):\n",
    "    args[\"data\"][\"class_num\"]=10\n",
    "    trainFolder=CIFAR10(args[\"data\"][\"dataroot\"],True,transform=trans,download=True)\n",
    "    testFolder=CIFAR10(args[\"data\"][\"dataroot\"],False,transform=trans,download=True)\n",
    "elif(args[\"data\"][\"dataset\"]==\"CIFAR100\"):\n",
    "    args[\"data\"][\"class_num\"]=100\n",
    "    trainFolder=CIFAR10(args[\"data\"][\"dataroot\"],True,transform=trans,download=True)\n",
    "    testFolder=CIFAR10(args[\"data\"][\"dataroot\"],False,transform=trans,download=True)\n",
    "else:\n",
    "    raise ValueError('dataset name unknown:',args[\"data\"][\"dataset\"])\n",
    "#(data,target)=trainFolder.__getitem__(0)\n",
    "#print(type(data),type(target))\n",
    "#print(data.size())"
   ]
  },
  {
   "cell_type": "code",
   "execution_count": 5,
   "metadata": {
    "ExecuteTime": {
     "end_time": "2021-01-12T06:39:27.869684Z",
     "start_time": "2021-01-12T06:39:22.887046Z"
    }
   },
   "outputs": [],
   "source": [
    "trainLoader = torch.utils.data.DataLoader(\n",
    "    trainFolder,\n",
    "    batch_size=args['data']['train']['batchSize'] * torch.cuda.device_count(),\n",
    "    shuffle=args['data']['train']['shuffle'],\n",
    "    num_workers=args['data']['train']['numWorkers'] * torch.cuda.device_count(),\n",
    "    drop_last=True,\n",
    "    pin_memory=True)\n",
    "testLoader = torch.utils.data.DataLoader(\n",
    "    testFolder,\n",
    "    batch_size=args['data']['test']['batchSize'] * torch.cuda.device_count(),\n",
    "    shuffle=args['data']['test']['shuffle'],\n",
    "    num_workers=args['data']['test']['numWorkers'] * torch.cuda.device_count(),\n",
    "    drop_last=True,\n",
    "    pin_memory=True)\n",
    "\n",
    "#for i, (img, label) in enumerate(trainLoader):\n",
    "#    print(img.size(),label.size())\n",
    "#    break"
   ]
  },
  {
   "cell_type": "markdown",
   "metadata": {},
   "source": [
    "# Resnet Backbone"
   ]
  },
  {
   "cell_type": "code",
   "execution_count": 6,
   "metadata": {
    "ExecuteTime": {
     "end_time": "2021-01-12T06:39:28.797451Z",
     "start_time": "2021-01-12T06:39:28.790149Z"
    }
   },
   "outputs": [],
   "source": [
    "import os\n",
    "import torch\n",
    "from torch import Tensor\n",
    "from torchvision import datasets\n",
    "import torch.nn as nn\n",
    "from torchvision.models import ResNet\n",
    "from torchvision.models.resnet import load_state_dict_from_url,model_urls,conv1x1,conv3x3\n",
    "from typing import Type, Any, Callable, Union, List, Optional"
   ]
  },
  {
   "cell_type": "code",
   "execution_count": 7,
   "metadata": {
    "ExecuteTime": {
     "end_time": "2021-01-12T06:39:29.421786Z",
     "start_time": "2021-01-12T06:39:29.321347Z"
    }
   },
   "outputs": [],
   "source": [
    "class BasicBlock(nn.Module):\n",
    "    expansion = 1\n",
    "\n",
    "    def __init__(self, inplanes, planes, stride=1, norm_type=\"BN\", group_num=4, downsample=None, groups=1,\n",
    "                 base_width=64, dilation=1, norm_layer=None):\n",
    "        super(BasicBlock, self).__init__()\n",
    "        if norm_layer is None:\n",
    "            if(norm_type==\"BN\"):\n",
    "                norm_layer = nn.BatchNorm2d\n",
    "            else:\n",
    "                norm_layer = nn.GroupNorm\n",
    "\n",
    "        self.norm_type=norm_type\n",
    "        self.group_num=group_num\n",
    "        \n",
    "        if groups != 1 or base_width != 64:\n",
    "            raise ValueError('BasicBlock only supports groups=1 and base_width=64')\n",
    "        if dilation > 1:\n",
    "            raise NotImplementedError(\"Dilation > 1 not supported in BasicBlock\")\n",
    "        # Both self.conv1 and self.downsample layers downsample the input when stride != 1\n",
    "        self.conv1 = conv3x3(inplanes, planes, stride)\n",
    "        #self.bn1 = norm_layer(planes)\n",
    "        self.relu = nn.ReLU(inplace=True)\n",
    "        self.conv2 = conv3x3(planes, planes)\n",
    "        #self.bn2 = norm_layer(planes)\n",
    "        self.downsample = downsample\n",
    "        self.stride = stride\n",
    "        \n",
    "        if(self.norm_type==\"BN\"):\n",
    "            self.bn1 = norm_layer(planes * block.expansion)\n",
    "            self.bn2 = norm_layer(planes * block.expansion)\n",
    "        elif(self.norm_type==\"LN\"):\n",
    "            self.bn1 = norm_layer(1,planes * block.expansion)\n",
    "            self.bn2 = norm_layer(1,planes * block.expansion)\n",
    "        elif(self.norm_type==\"IN\"):\n",
    "            self.bn1 = norm_layer(planes * block.expansion,planes * block.expansion)\n",
    "            self.bn2 = norm_layer(planes * block.expansion,planes * block.expansion)\n",
    "        elif(self.norm_type==\"GN\"):\n",
    "            self.bn1 = norm_layer(self.group_num,planes * block.expansion)\n",
    "            self.bn2 = norm_layer(self.group_num,planes * block.expansion)\n",
    "        else:\n",
    "            raise ValueError('norm type not in BN,LN,IN,GN:',self.norm_type)\n",
    "\n",
    "    def forward(self, x):\n",
    "        identity = x\n",
    "\n",
    "        out = self.conv1(x)\n",
    "        out = self.bn1(out)\n",
    "        out = self.relu(out)\n",
    "\n",
    "        out = self.conv2(out)\n",
    "        out = self.bn2(out)\n",
    "\n",
    "        if self.downsample is not None:\n",
    "            identity = self.downsample(x)\n",
    "\n",
    "        out += identity\n",
    "        out = self.relu(out)\n",
    "\n",
    "        return out\n",
    "\n",
    "\n",
    "class Bottleneck(nn.Module):\n",
    "    # Bottleneck in torchvision places the stride for downsampling at 3x3 convolution(self.conv2)\n",
    "    # while original implementation places the stride at the first 1x1 convolution(self.conv1)\n",
    "    # according to \"Deep residual learning for image recognition\"https://arxiv.org/abs/1512.03385.\n",
    "    # This variant is also known as ResNet V1.5 and improves accuracy according to\n",
    "    # https://ngc.nvidia.com/catalog/model-scripts/nvidia:resnet_50_v1_5_for_pytorch.\n",
    "\n",
    "    expansion = 4\n",
    "\n",
    "    def __init__(self, inplanes, planes, stride=1, norm_type=\"BN\", group_num=4, downsample=None, groups=1,\n",
    "                 base_width=64, dilation=1, norm_layer=None):\n",
    "        super(Bottleneck, self).__init__()\n",
    "        if norm_layer is None:\n",
    "            if(norm_type==\"BN\"):\n",
    "                norm_layer = nn.BatchNorm2d\n",
    "            else:\n",
    "                norm_layer = nn.GroupNorm\n",
    "\n",
    "        self.norm_type=norm_type\n",
    "        self.group_num=group_num\n",
    "        \n",
    "        width = int(planes * (base_width / 64.)) * groups\n",
    "        # Both self.conv2 and self.downsample layers downsample the input when stride != 1\n",
    "        self.conv1 = conv1x1(inplanes, width)\n",
    "        #self.bn1 = norm_layer(width)\n",
    "        self.conv2 = conv3x3(width, width, stride, groups, dilation)\n",
    "        #self.bn2 = norm_layer(width)\n",
    "        self.conv3 = conv1x1(width, planes * self.expansion)\n",
    "        #self.bn3 = norm_layer(planes * self.expansion)\n",
    "        self.relu = nn.ReLU(inplace=True)\n",
    "        self.downsample = downsample\n",
    "        self.stride = stride\n",
    "        \n",
    "        #####BLOCK 1.1#####\n",
    "        #程序填空BLOCK 1.1\n",
    "        #LN,IN,GN参数填空\n",
    "        #提交时删掉该注释部分\n",
    "        '''\n",
    "        if(self.norm_type==\"BN\"):\n",
    "            self.bn1 = norm_layer(width)\n",
    "            self.bn2 = norm_layer(width)\n",
    "            self.bn3 = norm_layer(planes * self.expansion)\n",
    "        elif(self.norm_type==\"LN\"):\n",
    "            self.bn1 = norm_layer(1,width)\n",
    "            self.bn2 = norm_layer(1,width)\n",
    "            self.bn3 = norm_layer(1,planes * self.expansion)\n",
    "        elif(self.norm_type==\"IN\"):\n",
    "            self.bn1 = norm_layer(width,width)\n",
    "            self.bn2 = norm_layer(width,width)\n",
    "            self.bn3 = norm_layer(planes * self.expansion,planes * self.expansion)\n",
    "        elif(self.norm_type==\"GN\"):\n",
    "            self.bn1 = norm_layer(self.group_num,width)\n",
    "            self.bn2 = norm_layer(self.group_num,width)\n",
    "            self.bn3 = norm_layer(self.group_num,planes * self.expansion)\n",
    "        '''\n",
    "        #填空题1.1:仿造BN格式对LN,IN,GN填空\n",
    "        \n",
    "        if(self.norm_type==\"BN\"):\n",
    "            self.bn1 = norm_layer(width)\n",
    "            self.bn2 = norm_layer(width)\n",
    "            self.bn3 = norm_layer(planes * self.expansion)\n",
    "        elif(self.norm_type==\"LN\"):\n",
    "            #LN代码块\n",
    "        elif(self.norm_type==\"IN\"):\n",
    "            #IN代码块\n",
    "        elif(self.norm_type==\"GN\"):\n",
    "            #GN代码块\n",
    "        \n",
    "        else:\n",
    "            raise ValueError('norm type not in BN,LN,IN,GN:',self.norm_type)\n",
    "\n",
    "    def forward(self, x):\n",
    "        identity = x\n",
    "\n",
    "        out = self.conv1(x)\n",
    "        out = self.bn1(out)\n",
    "        out = self.relu(out)\n",
    "\n",
    "        out = self.conv2(out)\n",
    "        out = self.bn2(out)\n",
    "        out = self.relu(out)\n",
    "\n",
    "        out = self.conv3(out)\n",
    "        out = self.bn3(out)\n",
    "\n",
    "        if self.downsample is not None:\n",
    "            identity = self.downsample(x)\n",
    "\n",
    "        out += identity\n",
    "        out = self.relu(out)\n",
    "\n",
    "        return out\n",
    "\n",
    "class resnet_backbone(ResNet):\n",
    "    \n",
    "    def __init__(self, block, layers, norm_type=\"BN\", group_num=4, num_classes=1000, zero_init_residual=False,\n",
    "                 groups=1, width_per_group=64, replace_stride_with_dilation=None,\n",
    "                 norm_layer=None):\n",
    "        super(ResNet, self).__init__()\n",
    "        if norm_layer is None:\n",
    "            if(norm_type==\"BN\"):\n",
    "                norm_layer = nn.BatchNorm2d\n",
    "            else:\n",
    "                norm_layer = nn.GroupNorm\n",
    "        self._norm_layer = norm_layer\n",
    "\n",
    "        self.norm_type=norm_type\n",
    "        self.group_num=group_num\n",
    "        self.inplanes = 64\n",
    "        self.dilation = 1\n",
    "        if replace_stride_with_dilation is None:\n",
    "            # each element in the tuple indicates if we should replace\n",
    "            # the 2x2 stride with a dilated convolution instead\n",
    "            replace_stride_with_dilation = [False, False, False]\n",
    "        if len(replace_stride_with_dilation) != 3:\n",
    "            raise ValueError(\"replace_stride_with_dilation should be None \"\n",
    "                             \"or a 3-element tuple, got {}\".format(replace_stride_with_dilation))\n",
    "        self.groups = groups\n",
    "        self.base_width = width_per_group\n",
    "        self.conv1 = nn.Conv2d(3, self.inplanes, kernel_size=7, stride=2, padding=3,\n",
    "                               bias=False)\n",
    "        self.bn1 = nn.BatchNorm2d(self.inplanes)\n",
    "        self.relu = nn.ReLU(inplace=True)\n",
    "        self.maxpool = nn.MaxPool2d(kernel_size=3, stride=2, padding=1)\n",
    "        self.layer1 = self._make_layer(block, 64, layers[0])\n",
    "        self.layer2 = self._make_layer(block, 128, layers[1], stride=2,\n",
    "                                       dilate=replace_stride_with_dilation[0])\n",
    "        self.layer3 = self._make_layer(block, 256, layers[2], stride=2,\n",
    "                                       dilate=replace_stride_with_dilation[1])\n",
    "        self.layer4 = self._make_layer(block, 512, layers[3], stride=2,\n",
    "                                       dilate=replace_stride_with_dilation[2])\n",
    "        self.avgpool = nn.AdaptiveAvgPool2d((1, 1))\n",
    "        self.fc = nn.Linear(512 * block.expansion, num_classes)\n",
    "\n",
    "        for m in self.modules():\n",
    "            if isinstance(m, nn.Conv2d):\n",
    "                nn.init.kaiming_normal_(m.weight, mode='fan_out', nonlinearity='relu')\n",
    "            elif isinstance(m, (nn.BatchNorm2d, nn.GroupNorm)):\n",
    "                nn.init.constant_(m.weight, 1)\n",
    "                nn.init.constant_(m.bias, 0)\n",
    "\n",
    "        # Zero-initialize the last BN in each residual branch,\n",
    "        # so that the residual branch starts with zeros, and each residual block behaves like an identity.\n",
    "        # This improves the model by 0.2~0.3% according to https://arxiv.org/abs/1706.02677\n",
    "        if zero_init_residual:\n",
    "            for m in self.modules():\n",
    "                if isinstance(m, Bottleneck):\n",
    "                    nn.init.constant_(m.bn3.weight, 0)\n",
    "                elif isinstance(m, BasicBlock):\n",
    "                    nn.init.constant_(m.bn2.weight, 0)\n",
    "                    \n",
    "    def _make_layer(self, block, planes, blocks, stride=1, dilate=False):\n",
    "        norm_layer = self._norm_layer\n",
    "        downsample = None\n",
    "        previous_dilation = self.dilation\n",
    "        if dilate:\n",
    "            self.dilation *= stride\n",
    "            stride = 1\n",
    "        if stride != 1 or self.inplanes != planes * block.expansion:\n",
    "            \n",
    "            #####BLOCK 1.2#####\n",
    "            #程序填空BLOCK 1.2.\n",
    "            #LN,IN,GN参数填空\n",
    "            #提交时删掉该注释部分\n",
    "            '''\n",
    "            if(self.norm_type==\"BN\"):\n",
    "                #print(\"isBN\")\n",
    "                downsample = nn.Sequential(\n",
    "                    conv1x1(self.inplanes, planes * block.expansion, stride),\n",
    "                    norm_layer(planes * block.expansion),\n",
    "                )\n",
    "            elif(self.norm_type==\"LN\"):\n",
    "                #print(\"isLN\")\n",
    "                downsample = nn.Sequential(\n",
    "                    conv1x1(self.inplanes, planes * block.expansion, stride),\n",
    "                    norm_layer(1,planes * block.expansion),\n",
    "                )\n",
    "            elif(self.norm_type==\"IN\"):\n",
    "                #print(\"isIN\")\n",
    "                downsample = nn.Sequential(\n",
    "                    conv1x1(self.inplanes, planes * block.expansion, stride),\n",
    "                    norm_layer(planes * block.expansion,planes * block.expansion),\n",
    "                )\n",
    "            elif(self.norm_type==\"GN\"):\n",
    "                #print(\"isGN\")\n",
    "                downsample = nn.Sequential(\n",
    "                    conv1x1(self.inplanes, planes * block.expansion, stride),\n",
    "                    norm_layer(self.group_num,planes * block.expansion),\n",
    "                )\n",
    "            '''\n",
    "            \n",
    "            #填空题1.2:仿造BN格式对LN,IN,GN填空\n",
    "            if(self.norm_type==\"BN\"):\n",
    "                #####\n",
    "            elif(self.norm_type==\"LN\"):\n",
    "                #####\n",
    "            elif(self.norm_type==\"IN\"):\n",
    "                #####\n",
    "            elif(self.norm_type==\"GN\"):\n",
    "                #####\n",
    "            \n",
    "            else:\n",
    "                raise ValueError('norm type not in BN,LN,IN,GN:',self.norm_type)\n",
    "            #print(planes,block.expansion)\n",
    "\n",
    "        layers = []\n",
    "        layers.append(block(self.inplanes, planes, stride, self.norm_type, self.group_num, downsample, self.groups,\n",
    "                            self.base_width, previous_dilation, norm_layer))\n",
    "        self.inplanes = planes * block.expansion\n",
    "        for _ in range(1, blocks):\n",
    "            layers.append(block(self.inplanes, planes, norm_type=self.norm_type, group_num=self.group_num, groups=self.groups,\n",
    "                                base_width=self.base_width, dilation=self.dilation,\n",
    "                                norm_layer=norm_layer))\n",
    "\n",
    "        return nn.Sequential(*layers)\n",
    "    \n",
    "    def _forward_impl(self, x: Tensor) -> Tensor:\n",
    "        # See note [TorchScript super()]\n",
    "        x = self.conv1(x)\n",
    "        x = self.bn1(x)\n",
    "        x = self.relu(x)\n",
    "        x = self.maxpool(x)\n",
    "        #print(x.size())\n",
    "        x = self.layer1(x)\n",
    "        #print(x.size())\n",
    "        x = self.layer2(x)\n",
    "        #print(x.size())\n",
    "        x = self.layer3(x)\n",
    "        #print(x.size())\n",
    "        x = self.layer4(x)\n",
    "        #print(x.size())\n",
    "\n",
    "        x = self.avgpool(x)\n",
    "        x = torch.flatten(x, 1)\n",
    "        x = self.fc(x)\n",
    "        x = torch.nn.functional.sigmoid(x)\n",
    "        return x\n",
    "\n",
    "    def forward(self, x: Tensor) -> Tensor:\n",
    "        return self._forward_impl(x)\n",
    "    \n",
    "def _resnet(\n",
    "    arch: str,\n",
    "    block: Type[Union[BasicBlock, Bottleneck]],\n",
    "    layers: List[int],\n",
    "    pretrained: bool,\n",
    "    progress: bool,\n",
    "    norm_type: str,\n",
    "    group_num: int,\n",
    "    **kwargs: Any\n",
    ") -> ResNet:\n",
    "    model = resnet_backbone(block, layers, norm_type, **kwargs)\n",
    "    if pretrained:\n",
    "        state_dict = load_state_dict_from_url(model_urls[arch],\n",
    "                                              progress=progress)\n",
    "        model.load_state_dict(state_dict)\n",
    "    return model\n",
    "\n",
    "\n",
    "def resnet18(pretrained: bool = False, progress: bool = True, norm_type: str = \"BN\", group_num: int = 4, **kwargs: Any) -> ResNet:\n",
    "    r\"\"\"ResNet-18 model from\n",
    "    `\"Deep Residual Learning for Image Recognition\" <https://arxiv.org/pdf/1512.03385.pdf>`_.\n",
    "    Args:\n",
    "        pretrained (bool): If True, returns a model pre-trained on ImageNet\n",
    "        progress (bool): If True, displays a progress bar of the download to stderr\n",
    "    \"\"\"\n",
    "    return _resnet('resnet18', Bottleneck, [2, 2, 2, 2], pretrained, progress, norm_type, group_num,\n",
    "                   **kwargs)\n",
    "\n",
    "\n",
    "def resnet34(pretrained: bool = False, progress: bool = True, norm_type: str = \"BN\", group_num: int = 4, **kwargs: Any) -> ResNet:\n",
    "    r\"\"\"ResNet-34 model from\n",
    "    `\"Deep Residual Learning for Image Recognition\" <https://arxiv.org/pdf/1512.03385.pdf>`_.\n",
    "    Args:\n",
    "        pretrained (bool): If True, returns a model pre-trained on ImageNet\n",
    "        progress (bool): If True, displays a progress bar of the download to stderr\n",
    "    \"\"\"\n",
    "    return _resnet('resnet34', Bottleneck, [3, 4, 6, 3], pretrained, progress, norm_type, group_num,\n",
    "                   **kwargs)\n",
    "\n",
    "\n",
    "def resnet50(pretrained: bool = False, progress: bool = True, norm_type: str = \"BN\", group_num: int = 4, **kwargs: Any) -> ResNet:\n",
    "    r\"\"\"ResNet-50 model from\n",
    "    `\"Deep Residual Learning for Image Recognition\" <https://arxiv.org/pdf/1512.03385.pdf>`_.\n",
    "    Args:\n",
    "        pretrained (bool): If True, returns a model pre-trained on ImageNet\n",
    "        progress (bool): If True, displays a progress bar of the download to stderr\n",
    "    \"\"\"\n",
    "    return _resnet('resnet50', Bottleneck, [3, 4, 6, 3], pretrained, progress, norm_type, group_num,\n",
    "                   **kwargs)"
   ]
  },
  {
   "cell_type": "markdown",
   "metadata": {},
   "source": [
    "# Initialization"
   ]
  },
  {
   "cell_type": "code",
   "execution_count": 8,
   "metadata": {
    "ExecuteTime": {
     "end_time": "2021-01-12T06:39:34.228870Z",
     "start_time": "2021-01-12T06:39:30.206115Z"
    }
   },
   "outputs": [],
   "source": [
    "seed = args['randomseed']\n",
    "torch.manual_seed(seed)\n",
    "torch.cuda.manual_seed(seed)\n",
    "np.random.seed(seed)\n",
    "model=resnet18(norm_type=args[\"model\"][\"norm_type\"], group_num=args[\"model\"][\"group_num\"], num_classes=args[\"data\"][\"class_num\"])\n",
    "epoch=0\n",
    "\n",
    "optimizer = torch.optim.Adam(\n",
    "    params=model.parameters(),\n",
    "    lr=args['model']['learningRate'],\n",
    "    weight_decay=args['model']['weightDecay']\n",
    ")\n",
    "\n",
    "\n",
    "\n",
    "if(args[\"use_gpu\"]):\n",
    "    model = torch.nn.DataParallel(model).cuda()"
   ]
  },
  {
   "cell_type": "markdown",
   "metadata": {},
   "source": [
    "# Train"
   ]
  },
  {
   "cell_type": "markdown",
   "metadata": {},
   "source": [
    "## Loss & Record"
   ]
  },
  {
   "cell_type": "code",
   "execution_count": 9,
   "metadata": {
    "ExecuteTime": {
     "end_time": "2021-01-12T06:39:51.306457Z",
     "start_time": "2021-01-12T06:39:51.299966Z"
    }
   },
   "outputs": [],
   "source": [
    "def loss_function_CE(p, y):\n",
    "    from torch import log\n",
    "    #p=[N,C,T,W,H]\n",
    "    delta = 1e-4\n",
    "    p = -y*log(p+delta)-(1-y) *log(1-p+delta)\n",
    "    return p.sum()"
   ]
  },
  {
   "cell_type": "code",
   "execution_count": 10,
   "metadata": {
    "ExecuteTime": {
     "end_time": "2021-01-12T06:39:51.714197Z",
     "start_time": "2021-01-12T06:39:51.703852Z"
    }
   },
   "outputs": [],
   "source": [
    "class Record(object):\n",
    "    def __init__(self):\n",
    "        self.loss = 0\n",
    "        self.count = 0\n",
    "\n",
    "        self.miniloss = 0\n",
    "        self.minicount = 0\n",
    "\n",
    "    def add(self, value):\n",
    "        self.loss += value\n",
    "        self.count += 1\n",
    "        self.minicount += 1\n",
    "        self.miniloss += value\n",
    "        \n",
    "    def add_2(self, value1, value2):\n",
    "        self.loss+=value1\n",
    "        self.count+=value2\n",
    "\n",
    "    def mean(self):\n",
    "        return self.loss / self.count\n",
    "\n",
    "    def minimean(self):\n",
    "        ans = self.miniloss / self.minicount\n",
    "        self.minicount = 0\n",
    "        self.miniloss = 0\n",
    "        return ans"
   ]
  },
  {
   "cell_type": "markdown",
   "metadata": {},
   "source": [
    "## Train"
   ]
  },
  {
   "cell_type": "code",
   "execution_count": 11,
   "metadata": {
    "ExecuteTime": {
     "end_time": "2021-01-12T06:39:52.241372Z",
     "start_time": "2021-01-12T06:39:52.227776Z"
    }
   },
   "outputs": [],
   "source": [
    "def train():\n",
    "    #print(\"start training...\")\n",
    "    model.train()\n",
    "    record = Record()\n",
    "    current_time = time.time()\n",
    "    #print(current_time)\n",
    "    for i, (img, label) in enumerate(trainLoader):\n",
    "        img = img.float()\n",
    "        label = label\n",
    "        label = torch.unsqueeze(label,dim=1)\n",
    "        \n",
    "        if(args[\"use_gpu\"]):\n",
    "            img=img.cuda()\n",
    "            label=label.cuda()\n",
    "            label=torch.cuda.FloatTensor(label.size(0), args[\"data\"][\"class_num\"]).fill_(0).scatter_(1, label, 1)\n",
    "        else:\n",
    "            label=torch.zeros(label.size(0), args[\"data\"][\"class_num\"]).scatter_(1, label, 1)\n",
    "        \n",
    "        #print(img.size(),label.size())\n",
    "        #print(img.type(),label.type())\n",
    "        \n",
    "        y1= model(img)\n",
    "        #print(y1.type(),label.type())\n",
    "        loss = loss_function_CE(y1,label)/y1.size(0)\n",
    "        #print(y1.size(0),loss.data)\n",
    "        optimizer.zero_grad()\n",
    "        record.add(loss.data)\n",
    "        loss.backward()\n",
    "        optimizer.step()\n",
    "        #print(trainLoader.__len__(),testLoader.__len__())\n",
    "        print(\"\\r\"+f'The epoch :{epoch},batch:{(i*100/trainLoader.__len__()):.2f}%,The training loss is:{loss.data:.4f}',end=\"\")\n",
    "            \n",
    "    #print(' ')\n",
    "    #print(\n",
    "    #    f'----------Iteration per epoch :{len(trainLoader)}--------------------')\n",
    "    #print(f'The epoch :{epoch}')\n",
    "    #print(f'The epoch cost time:{(time.time()-current_time):.2f}s')\n",
    "    #print(f'The training loss is:{record.mean():.4f}')\n",
    "    return record.mean(), (time.time()-current_time)"
   ]
  },
  {
   "cell_type": "markdown",
   "metadata": {},
   "source": [
    "## Test"
   ]
  },
  {
   "cell_type": "code",
   "execution_count": 12,
   "metadata": {
    "ExecuteTime": {
     "end_time": "2021-01-12T06:39:52.913793Z",
     "start_time": "2021-01-12T06:39:52.899613Z"
    }
   },
   "outputs": [],
   "source": [
    "def test():\n",
    "    #print(\"start training...\")\n",
    "    model.eval()\n",
    "    record = Record()\n",
    "    current_time = time.time()\n",
    "    #print(current_time)\n",
    "    with torch.no_grad():\n",
    "        for i, (img, label) in enumerate(testLoader):\n",
    "            img = img.float()\n",
    "            label = label\n",
    "            label = torch.unsqueeze(label,dim=1)\n",
    "\n",
    "            if(args[\"use_gpu\"]):\n",
    "                img=img.cuda()\n",
    "                label=label.cuda()\n",
    "                label=torch.cuda.FloatTensor(label.size(0), args[\"data\"][\"class_num\"]).fill_(0).scatter_(1, label, 1)\n",
    "            else:\n",
    "                label=torch.zeros(label.size(0), args[\"data\"][\"class_num\"]).scatter_(1, label, 1)\n",
    "\n",
    "            #print(img.size(),label.size())\n",
    "            #print(img.type(),label.type())\n",
    "\n",
    "            y1= model(img)\n",
    "            #print(y1.type(),label.type())\n",
    "            loss = loss_function_CE(y1,label)/y1.size(0)\n",
    "            y1=(y1>=0.5)*label\n",
    "            \n",
    "            ct=torch.sum(y1).data\n",
    "            total=y1.size(0)\n",
    "            \n",
    "            #print(y1.size(0),loss.data)\n",
    "            #optimizer.zero_grad()\n",
    "            record.add_2(ct,total)\n",
    "            #loss.backward()\n",
    "            #optimizer.step()\n",
    "            #print(trainLoader.__len__(),testLoader.__len__())\n",
    "            print(\"\\r\"+f'The epoch :{epoch},batch:{(i*100/trainLoader.__len__()):.2f}%,The testing accuracy is:{ct/total:.4f}',end=\"\")\n",
    "            \n",
    "    print(' ')\n",
    "    print(\n",
    "        f'----------Iteration per epoch :{len(trainLoader)}--------------------')\n",
    "    print(f'The epoch :{epoch}')\n",
    "    print(f'The epoch cost time:{(time.time()-current_time):.2f}s')\n",
    "    print(f'The accuracy is:{record.mean():.4f}')\n",
    "    return record.mean()"
   ]
  },
  {
   "cell_type": "code",
   "execution_count": 13,
   "metadata": {
    "ExecuteTime": {
     "end_time": "2021-01-12T06:39:53.341107Z",
     "start_time": "2021-01-12T06:39:53.338903Z"
    }
   },
   "outputs": [],
   "source": [
    "#Encoder = resnet50(pretrained=False,norm_type=\"GN\")\n",
    "#testinput=torch.ones(100,3,64,64)\n",
    "#testinput=Encoder(testinput)\n",
    "#print(testinput.size())"
   ]
  },
  {
   "cell_type": "markdown",
   "metadata": {},
   "source": [
    "# Run"
   ]
  },
  {
   "cell_type": "code",
   "execution_count": null,
   "metadata": {
    "ExecuteTime": {
     "start_time": "2021-01-12T06:39:54.881Z"
    }
   },
   "outputs": [
    {
     "name": "stderr",
     "output_type": "stream",
     "text": [
      "/home/zengyi/anaconda3/lib/python3.8/site-packages/torch/nn/functional.py:1625: UserWarning: nn.functional.sigmoid is deprecated. Use torch.sigmoid instead.\n",
      "  warnings.warn(\"nn.functional.sigmoid is deprecated. Use torch.sigmoid instead.\")\n"
     ]
    },
    {
     "name": "stdout",
     "output_type": "stream",
     "text": [
      "The epoch :0,batch:19.74%,The testing accuracy is:0.2422 \n",
      "----------Iteration per epoch :390--------------------\n",
      "The epoch :0\n",
      "The epoch cost time:1.08s\n",
      "The accuracy is:0.2404\n",
      "The epoch :10,batch:19.74%,The testing accuracy is:0.6406 \n",
      "----------Iteration per epoch :390--------------------\n",
      "The epoch :10\n",
      "The epoch cost time:1.07s\n",
      "The accuracy is:0.6590\n",
      "The epoch :20,batch:19.74%,The testing accuracy is:0.6797 \n",
      "----------Iteration per epoch :390--------------------\n",
      "The epoch :20\n",
      "The epoch cost time:1.12s\n",
      "The accuracy is:0.7233\n",
      "The epoch :25,batch:20.51%,The training loss is:0.1987"
     ]
    }
   ],
   "source": [
    "for e in range(args[\"model\"][\"epochs\"]):\n",
    "    train()\n",
    "    if(epoch%args[\"epoch_report_inter\"]==0):\n",
    "        test()\n",
    "    epoch+=1"
   ]
  },
  {
   "cell_type": "code",
   "execution_count": null,
   "metadata": {},
   "outputs": [],
   "source": []
  },
  {
   "cell_type": "code",
   "execution_count": null,
   "metadata": {},
   "outputs": [],
   "source": []
  }
 ],
 "metadata": {
  "kernelspec": {
   "display_name": "Python 3",
   "language": "python",
   "name": "python3"
  },
  "language_info": {
   "codemirror_mode": {
    "name": "ipython",
    "version": 3
   },
   "file_extension": ".py",
   "mimetype": "text/x-python",
   "name": "python",
   "nbconvert_exporter": "python",
   "pygments_lexer": "ipython3",
   "version": "3.8.3"
  },
  "toc": {
   "base_numbering": 1,
   "nav_menu": {},
   "number_sections": true,
   "sideBar": true,
   "skip_h1_title": false,
   "title_cell": "Table of Contents",
   "title_sidebar": "Contents",
   "toc_cell": false,
   "toc_position": {},
   "toc_section_display": true,
   "toc_window_display": false
  }
 },
 "nbformat": 4,
 "nbformat_minor": 4
}
